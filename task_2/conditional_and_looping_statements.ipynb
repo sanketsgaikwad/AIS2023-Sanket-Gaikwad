{
 "cells": [
  {
   "cell_type": "code",
   "execution_count": 1,
   "id": "2b2f4282",
   "metadata": {},
   "outputs": [
    {
     "name": "stdout",
     "output_type": "stream",
     "text": [
      "[1, 2, 3, 4, 5, 6, 7, 8, 9, 10, 11, 12, 13, 14, 15, 16, 17, 18, 19, 20]\n"
     ]
    }
   ],
   "source": [
    "''' \n",
    "Write code: creat list of 1 to 20 numbers using for loop.\n",
    "E.x [1,2,3,4….20] '''\n",
    "\n",
    "l1=[]\n",
    "\n",
    "for i in range(1,21):\n",
    "    l1.append(i)\n",
    "\n",
    "print(l1)"
   ]
  },
  {
   "cell_type": "code",
   "execution_count": 2,
   "id": "8c6503a6",
   "metadata": {},
   "outputs": [
    {
     "name": "stdout",
     "output_type": "stream",
     "text": [
      "[20, 19, 18, 17, 16, 15, 14, 13, 12, 11, 10, 9, 8, 7, 6, 5, 4, 3, 2, 1]\n"
     ]
    }
   ],
   "source": [
    "'''\n",
    "creat list of 20 to 1 numbers using while loop.\n",
    "E.x [20,19,…..1,0] \n",
    "'''\n",
    "\n",
    "l2=[]\n",
    "i=20\n",
    "\n",
    "while i>0:\n",
    "    l2.append(i)\n",
    "    i-=1\n",
    "\n",
    "print(l2)"
   ]
  },
  {
   "cell_type": "code",
   "execution_count": 3,
   "id": "89c4e468",
   "metadata": {},
   "outputs": [
    {
     "name": "stdout",
     "output_type": "stream",
     "text": [
      "Enter the Marks: 60\n",
      "A Grade\n"
     ]
    }
   ],
   "source": [
    "'''Write  conditional loop for checking grades o,A,b,c and fail \n",
    "(Define own conditions)'''\n",
    "\n",
    "marks = int(input(\"Enter the Marks: \"))\n",
    "\n",
    "if marks>=35 and marks<45 :\n",
    "    print(\"C Grade\")\n",
    "elif marks>=45 and marks<60:\n",
    "    print(\"B Grade\")\n",
    "elif marks>=60 and marks<80:\n",
    "    print(\"A Grade\")\n",
    "elif marks>=80 and marks<=100:\n",
    "    print(\"O Grade\")\n",
    "else:\n",
    "    print(\"Fail\")"
   ]
  },
  {
   "cell_type": "code",
   "execution_count": 4,
   "id": "cb165b16",
   "metadata": {},
   "outputs": [
    {
     "name": "stdout",
     "output_type": "stream",
     "text": [
      "Enter a Number :13\n",
      "13  is a prime number\n"
     ]
    }
   ],
   "source": [
    "'''Write  conditional loop for Prime number'''\n",
    "\n",
    "num=int(input(\"Enter a Number :\"))\n",
    "flag=0\n",
    "\n",
    "for i in range(2,num):\n",
    "    if num%i==0:\n",
    "        flag=1\n",
    "        \n",
    "if flag!=0:\n",
    "    print(num,\" is not a prime number\")\n",
    "else:\n",
    "    print(num,\" is a prime number\")\n"
   ]
  },
  {
   "cell_type": "code",
   "execution_count": 12,
   "id": "07384294",
   "metadata": {},
   "outputs": [
    {
     "name": "stdout",
     "output_type": "stream",
     "text": [
      "1\n",
      "3\n",
      "5\n",
      "7\n",
      "9\n",
      "11\n",
      "13\n",
      "15\n",
      "17\n",
      "19\n"
     ]
    }
   ],
   "source": [
    "'''Write  “for loop” for printing odd value using continue statement \n",
    "(Don’t use range step parameter)'''\n",
    "\n",
    "for i in range(0,20):\n",
    "    if i%2==0:continue \n",
    "    print(i)"
   ]
  },
  {
   "cell_type": "code",
   "execution_count": 14,
   "id": "1e368095",
   "metadata": {},
   "outputs": [
    {
     "name": "stdout",
     "output_type": "stream",
     "text": [
      "A1\n",
      "B2\n",
      "C3\n",
      "D4\n",
      "E5\n",
      "F6\n",
      "G7\n",
      "H8\n",
      "I9\n",
      "J10\n",
      "K11\n",
      "L12\n",
      "M13\n",
      "N14\n",
      "O15\n",
      "P16\n",
      "Q17\n",
      "R18\n",
      "S19\n",
      "T20\n",
      "U21\n",
      "V22\n",
      "W23\n",
      "X24\n",
      "Y25\n",
      "Z26\n"
     ]
    }
   ],
   "source": [
    "'''Write code need given ans\n",
    "A1\n",
    "B2\n",
    "C3\n",
    ".\n",
    ".\n",
    "Z26'''\n",
    "\n",
    "for i in range(0,26):\n",
    "    print(chr(65+i)+str(i+1))"
   ]
  },
  {
   "cell_type": "code",
   "execution_count": 7,
   "id": "ad8d5a0b",
   "metadata": {},
   "outputs": [
    {
     "name": "stdout",
     "output_type": "stream",
     "text": [
      "(1, 2, 3, 4, 5, 6)\n",
      "(6, 5, 4, 3, 2, 1)\n"
     ]
    }
   ],
   "source": [
    "'''Write code reverse to given tuple (don’t use reverse method )\n",
    "T=(1,3,2,4,6,5)'''\n",
    "\n",
    "T=(1,2,3,4,5,6) \n",
    "\n",
    "print(T)  \n",
    "T = T[::-1]  \n",
    "print(T) "
   ]
  },
  {
   "cell_type": "code",
   "execution_count": 33,
   "id": "ef09be96",
   "metadata": {},
   "outputs": [
    {
     "name": "stdout",
     "output_type": "stream",
     "text": [
      "Python\n",
      "s\n",
      "t\n",
      "a\n",
      "t\n",
      "i\n",
      "Python\n",
      "s\n",
      "t\n",
      "i\n",
      "c\n",
      "Python\n",
      "s\n"
     ]
    }
   ],
   "source": [
    "'''Write code print “statistics” like that \n",
    "\n",
    "Python\n",
    "s\n",
    "t\n",
    "a\n",
    "t\n",
    "I\n",
    "Python\n",
    "s\n",
    "T\n",
    "I\n",
    "c\n",
    "Python\n",
    "s'''\n",
    "\n",
    "word=\"statistics\"\n",
    "\n",
    "for i in range(len(word)):\n",
    "    if word[i]=='s':  \n",
    "        print('Python')\n",
    "    print(word[i])"
   ]
  },
  {
   "cell_type": "code",
   "execution_count": 9,
   "id": "587b1170",
   "metadata": {},
   "outputs": [
    {
     "name": "stdout",
     "output_type": "stream",
     "text": [
      "a\n",
      "b\n",
      "c\n",
      "d\n",
      "e\n",
      "f\n",
      "g\n"
     ]
    }
   ],
   "source": [
    "'''alpha= [a,b,c,d,e,f,g,h,i]\n",
    "Print every word and stop iteration after getting g ltr'''\n",
    "\n",
    "alpha = ['a','b','c','d','e','f','g','h','i']\n",
    "\n",
    "for i in alpha:\n",
    "    print(i)\n",
    "    if i==\"g\":\n",
    "        break"
   ]
  },
  {
   "cell_type": "code",
   "execution_count": null,
   "id": "31248573",
   "metadata": {},
   "outputs": [],
   "source": []
  }
 ],
 "metadata": {
  "kernelspec": {
   "display_name": "Python 3 (ipykernel)",
   "language": "python",
   "name": "python3"
  },
  "language_info": {
   "codemirror_mode": {
    "name": "ipython",
    "version": 3
   },
   "file_extension": ".py",
   "mimetype": "text/x-python",
   "name": "python",
   "nbconvert_exporter": "python",
   "pygments_lexer": "ipython3",
   "version": "3.9.12"
  }
 },
 "nbformat": 4,
 "nbformat_minor": 5
}
