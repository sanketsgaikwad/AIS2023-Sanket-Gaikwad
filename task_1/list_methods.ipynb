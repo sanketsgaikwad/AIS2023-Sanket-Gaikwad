{
 "cells": [
  {
   "cell_type": "markdown",
   "id": "f10d6722",
   "metadata": {},
   "source": [
    "# List Methods "
   ]
  },
  {
   "cell_type": "markdown",
   "id": "ebe39d15",
   "metadata": {},
   "source": [
    "# 1) append()"
   ]
  },
  {
   "cell_type": "code",
   "execution_count": 30,
   "id": "92ea8e50",
   "metadata": {},
   "outputs": [
    {
     "name": "stdout",
     "output_type": "stream",
     "text": [
      "['one', 'two', 'three', 'four', 'five']\n"
     ]
    }
   ],
   "source": [
    "#list methods\n",
    "\n",
    "list_1=[\"one\",\"two\",\"three\",\"four\",\"five\"]\n",
    "print(list_1)"
   ]
  },
  {
   "cell_type": "code",
   "execution_count": 31,
   "id": "9394f2c4",
   "metadata": {},
   "outputs": [
    {
     "name": "stdout",
     "output_type": "stream",
     "text": [
      "['one', 'two', 'three', 'four', 'five', 'two']\n"
     ]
    }
   ],
   "source": [
    "# append() : Adds an element at the end of the list\n",
    "\n",
    "list_1.append(\"two\")\n",
    "print(list_1)"
   ]
  },
  {
   "cell_type": "markdown",
   "id": "195acc87",
   "metadata": {},
   "source": [
    "# 2) copy()"
   ]
  },
  {
   "cell_type": "code",
   "execution_count": 32,
   "id": "84ce09a1",
   "metadata": {},
   "outputs": [
    {
     "name": "stdout",
     "output_type": "stream",
     "text": [
      "['one', 'two', 'three', 'four', 'five', 'two']\n"
     ]
    }
   ],
   "source": [
    "# copy() : Returns a copy of the list\n",
    "\n",
    "list_copy = list_1.copy()\n",
    "print(list_copy)"
   ]
  },
  {
   "cell_type": "markdown",
   "id": "680dedbd",
   "metadata": {},
   "source": [
    "# 3) count()"
   ]
  },
  {
   "cell_type": "code",
   "execution_count": 33,
   "id": "3b4aa4a0",
   "metadata": {},
   "outputs": [
    {
     "name": "stdout",
     "output_type": "stream",
     "text": [
      "2\n"
     ]
    }
   ],
   "source": [
    "# count() : Returns the number of elements with the specified value\n",
    "\n",
    "ct = list_1.count(\"two\")\n",
    "print(ct)"
   ]
  },
  {
   "cell_type": "markdown",
   "id": "61435af6",
   "metadata": {},
   "source": [
    "# 4) extend()"
   ]
  },
  {
   "cell_type": "code",
   "execution_count": 34,
   "id": "e975cf77",
   "metadata": {},
   "outputs": [
    {
     "name": "stdout",
     "output_type": "stream",
     "text": [
      "['BMW', 'MINI', 'Rolls-Royce', 'Volkswagen', 'Bentley', 'Porsche']\n"
     ]
    }
   ],
   "source": [
    "# extend() : Add the elements of a list (or any iterable), to the end of the current list\n",
    "\n",
    "cars_1=[\"BMW\",\"MINI\",\"Rolls-Royce\"]\n",
    "cars_2=[\"Volkswagen\",\"Bentley\",\"Porsche\"]\n",
    "\n",
    "cars_1.extend(cars_2)\n",
    "print(cars_1)"
   ]
  },
  {
   "cell_type": "markdown",
   "id": "03cc6e61",
   "metadata": {},
   "source": [
    "# 5)  index()"
   ]
  },
  {
   "cell_type": "code",
   "execution_count": 35,
   "id": "87cf27f9",
   "metadata": {},
   "outputs": [
    {
     "name": "stdout",
     "output_type": "stream",
     "text": [
      "['BMW', 'MINI', 'Rolls-Royce', 'Volkswagen', 'Bentley', 'Porsche']\n",
      "3\n"
     ]
    }
   ],
   "source": [
    "# index() : Returns the index of the first element with the specified value\n",
    "\n",
    "print(cars_1)\n",
    "print(cars_1.index(\"Volkswagen\"))"
   ]
  },
  {
   "cell_type": "markdown",
   "id": "4953c467",
   "metadata": {},
   "source": [
    "# 6) insert()"
   ]
  },
  {
   "cell_type": "code",
   "execution_count": 36,
   "id": "c9fdc0a3",
   "metadata": {},
   "outputs": [
    {
     "name": "stdout",
     "output_type": "stream",
     "text": [
      "['Volkswagen', 'Bentley', 'Porsche']\n",
      "['Volkswagen', 'Lamborghini', 'Bentley', 'Porsche']\n"
     ]
    }
   ],
   "source": [
    "# insert() : Adds an element at the specified position\n",
    "\n",
    "print(cars_2)\n",
    "cars_2.insert(1,\"Lamborghini\")\n",
    "print(cars_2)"
   ]
  },
  {
   "cell_type": "markdown",
   "id": "0cf9809f",
   "metadata": {},
   "source": [
    "# 7) pop()"
   ]
  },
  {
   "cell_type": "code",
   "execution_count": 37,
   "id": "5ac53803",
   "metadata": {},
   "outputs": [
    {
     "name": "stdout",
     "output_type": "stream",
     "text": [
      "['Volkswagen', 'Lamborghini', 'Bentley', 'Porsche']\n",
      "['Volkswagen', 'Bentley', 'Porsche']\n"
     ]
    }
   ],
   "source": [
    "# pop() : Removes the element at the specified position\n",
    "\n",
    "print(cars_2)\n",
    "cars_2.pop(1)\n",
    "print(cars_2)"
   ]
  },
  {
   "cell_type": "markdown",
   "id": "63cd567b",
   "metadata": {},
   "source": [
    "# 8) remove()"
   ]
  },
  {
   "cell_type": "code",
   "execution_count": 38,
   "id": "992f1698",
   "metadata": {},
   "outputs": [
    {
     "name": "stdout",
     "output_type": "stream",
     "text": [
      "['BMW', 'MINI', 'Rolls-Royce', 'Volkswagen', 'Bentley', 'Porsche']\n",
      "['BMW', 'MINI', 'Rolls-Royce', 'Volkswagen', 'Porsche']\n"
     ]
    }
   ],
   "source": [
    "# remove() : Removes the item with the specified value\n",
    "\n",
    "print(cars_1)\n",
    "cars_1.remove(\"Bentley\")\n",
    "print(cars_1)"
   ]
  },
  {
   "cell_type": "markdown",
   "id": "b7af8d8f",
   "metadata": {},
   "source": [
    "# 9) reverse()"
   ]
  },
  {
   "cell_type": "code",
   "execution_count": 39,
   "id": "645de368",
   "metadata": {},
   "outputs": [
    {
     "name": "stdout",
     "output_type": "stream",
     "text": [
      "['Porsche', 'Volkswagen', 'Rolls-Royce', 'MINI', 'BMW']\n"
     ]
    }
   ],
   "source": [
    "# reverse() : Reverses the order of the list\n",
    "\n",
    "cars_1.reverse()\n",
    "print(cars_1)"
   ]
  },
  {
   "cell_type": "markdown",
   "id": "61c7d9e1",
   "metadata": {},
   "source": [
    "# 10) sort()"
   ]
  },
  {
   "cell_type": "code",
   "execution_count": 40,
   "id": "ed9503e4",
   "metadata": {},
   "outputs": [
    {
     "name": "stdout",
     "output_type": "stream",
     "text": [
      "['BMW', 'MINI', 'Porsche', 'Rolls-Royce', 'Volkswagen']\n"
     ]
    }
   ],
   "source": [
    "# sort() : Sorts the list\n",
    "\n",
    "cars_1.sort()\n",
    "print(cars_1)"
   ]
  },
  {
   "cell_type": "markdown",
   "id": "e8e045b6",
   "metadata": {},
   "source": [
    "# 11) clear()"
   ]
  },
  {
   "cell_type": "code",
   "execution_count": 41,
   "id": "c57b79d4",
   "metadata": {},
   "outputs": [
    {
     "name": "stdout",
     "output_type": "stream",
     "text": [
      "['one', 'two', 'three', 'four', 'five', 'two']\n",
      "[]\n"
     ]
    }
   ],
   "source": [
    "# clear() : Removes all the elements from the list\n",
    "\n",
    "print(list_1)\n",
    "list_1.clear()\n",
    "print(list_1)"
   ]
  }
 ],
 "metadata": {
  "kernelspec": {
   "display_name": "Python 3 (ipykernel)",
   "language": "python",
   "name": "python3"
  },
  "language_info": {
   "codemirror_mode": {
    "name": "ipython",
    "version": 3
   },
   "file_extension": ".py",
   "mimetype": "text/x-python",
   "name": "python",
   "nbconvert_exporter": "python",
   "pygments_lexer": "ipython3",
   "version": "3.9.12"
  }
 },
 "nbformat": 4,
 "nbformat_minor": 5
}
