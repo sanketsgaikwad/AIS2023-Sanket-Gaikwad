{
 "cells": [
  {
   "cell_type": "markdown",
   "id": "009c4e7f",
   "metadata": {},
   "source": [
    "# Tuple Methods"
   ]
  },
  {
   "cell_type": "markdown",
   "id": "24ec7d73",
   "metadata": {},
   "source": [
    "# 1) index()"
   ]
  },
  {
   "cell_type": "code",
   "execution_count": 6,
   "id": "f694315f",
   "metadata": {},
   "outputs": [
    {
     "name": "stdout",
     "output_type": "stream",
     "text": [
      "('one', 'two', 'three', 'four', 'five', 'three')\n"
     ]
    }
   ],
   "source": [
    "# tuple methods\n",
    "\n",
    "tup_1 = (\"one\",\"two\",\"three\",\"four\",\"five\",\"three\")\n",
    "print(tup_1)"
   ]
  },
  {
   "cell_type": "code",
   "execution_count": 7,
   "id": "c01f0b2e",
   "metadata": {},
   "outputs": [
    {
     "name": "stdout",
     "output_type": "stream",
     "text": [
      "3\n"
     ]
    }
   ],
   "source": [
    "# index() : Searches the tuple for a specified value and returns the position of where it was found\n",
    "\n",
    "indx = tup_1.index(\"four\")\n",
    "print(indx)"
   ]
  },
  {
   "cell_type": "markdown",
   "id": "c39df132",
   "metadata": {},
   "source": [
    "# 2) count()"
   ]
  },
  {
   "cell_type": "code",
   "execution_count": 8,
   "id": "4a3c644b",
   "metadata": {},
   "outputs": [
    {
     "name": "stdout",
     "output_type": "stream",
     "text": [
      "('one', 'two', 'three', 'four', 'five', 'three')\n",
      "2\n"
     ]
    }
   ],
   "source": [
    "# count() : Returns the number of times a specified value occurs in a tuple\n",
    "\n",
    "print(tup_1)\n",
    "print(tup_1.count(\"three\"))"
   ]
  }
 ],
 "metadata": {
  "kernelspec": {
   "display_name": "Python 3 (ipykernel)",
   "language": "python",
   "name": "python3"
  },
  "language_info": {
   "codemirror_mode": {
    "name": "ipython",
    "version": 3
   },
   "file_extension": ".py",
   "mimetype": "text/x-python",
   "name": "python",
   "nbconvert_exporter": "python",
   "pygments_lexer": "ipython3",
   "version": "3.9.12"
  }
 },
 "nbformat": 4,
 "nbformat_minor": 5
}
