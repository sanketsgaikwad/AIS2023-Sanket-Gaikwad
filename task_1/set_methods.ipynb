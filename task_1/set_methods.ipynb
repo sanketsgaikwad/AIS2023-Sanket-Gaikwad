{
 "cells": [
  {
   "cell_type": "markdown",
   "id": "f6b09a72",
   "metadata": {},
   "source": [
    "# Sets Methods "
   ]
  },
  {
   "cell_type": "markdown",
   "id": "435dfe7d",
   "metadata": {},
   "source": [
    "# 1) add()"
   ]
  },
  {
   "cell_type": "code",
   "execution_count": 1,
   "id": "e6f98e73",
   "metadata": {},
   "outputs": [
    {
     "name": "stdout",
     "output_type": "stream",
     "text": [
      "{'blue', 'red', 'purple', 'green'}\n"
     ]
    }
   ],
   "source": [
    "# add() : Adds an element to the set\n",
    "\n",
    "colours = {\"red\", \"green\", \"blue\"}\n",
    "colours.add(\"purple\")\n",
    "print(colours)"
   ]
  },
  {
   "cell_type": "markdown",
   "id": "992b6b4b",
   "metadata": {},
   "source": [
    "# 2) clear()"
   ]
  },
  {
   "cell_type": "code",
   "execution_count": 2,
   "id": "85fae3c1",
   "metadata": {},
   "outputs": [
    {
     "name": "stdout",
     "output_type": "stream",
     "text": [
      "set()\n"
     ]
    }
   ],
   "source": [
    "# clear() : Removes all the elements from the set\n",
    "\n",
    "colours.clear()\n",
    "print(colours)"
   ]
  },
  {
   "cell_type": "markdown",
   "id": "a06d4426",
   "metadata": {},
   "source": [
    "# 3) copy()"
   ]
  },
  {
   "cell_type": "code",
   "execution_count": 3,
   "id": "4ad6fefd",
   "metadata": {},
   "outputs": [
    {
     "name": "stdout",
     "output_type": "stream",
     "text": [
      "['BMW', 'MINI', 'Rolls-Royce']\n"
     ]
    }
   ],
   "source": [
    "# copy() : Returns a copy of the set\n",
    "\n",
    "cars_1 = [\"BMW\",\"MINI\",\"Rolls-Royce\"]\n",
    "cars_cpy = cars_1.copy()\n",
    "\n",
    "print(cars_cpy)"
   ]
  },
  {
   "cell_type": "markdown",
   "id": "de873a52",
   "metadata": {},
   "source": [
    "# 4) difference()"
   ]
  },
  {
   "cell_type": "code",
   "execution_count": 4,
   "id": "14234026",
   "metadata": {},
   "outputs": [
    {
     "name": "stdout",
     "output_type": "stream",
     "text": [
      "{'peter', 'tony'}\n"
     ]
    }
   ],
   "source": [
    "# difference() : Returns a set containing the difference between two or more sets\n",
    "\n",
    "a = {\"tony\", \"thor\", \"peter\"}\n",
    "b = {\"thor\", \"quill\", \"gamora\"}\n",
    "\n",
    "set_diff = a.difference(b) \n",
    "\n",
    "print(set_diff)"
   ]
  },
  {
   "cell_type": "markdown",
   "id": "998ee8c3",
   "metadata": {},
   "source": [
    "# 5) difference_update()"
   ]
  },
  {
   "cell_type": "code",
   "execution_count": 5,
   "id": "4c1c3dea",
   "metadata": {},
   "outputs": [
    {
     "name": "stdout",
     "output_type": "stream",
     "text": [
      "{'peter', 'tony'}\n"
     ]
    }
   ],
   "source": [
    "# difference_update() : Removes the items in this set that are also included in another, specified set\n",
    "\n",
    "a.difference_update(b) \n",
    "print(a)"
   ]
  },
  {
   "cell_type": "markdown",
   "id": "61dbe34a",
   "metadata": {},
   "source": [
    "# 6) discard()"
   ]
  },
  {
   "cell_type": "code",
   "execution_count": 6,
   "id": "b854640d",
   "metadata": {},
   "outputs": [
    {
     "name": "stdout",
     "output_type": "stream",
     "text": [
      "{'nebula', 'loki', 'gamora', 'quill', 'thor', 'tony'}\n",
      "{'nebula', 'loki', 'gamora', 'thor', 'tony'}\n"
     ]
    }
   ],
   "source": [
    "# discard() : Remove the specified item\n",
    "\n",
    "avengers = {\"thor\", \"quill\", \"gamora\",\"tony\",\"nebula\",\"loki\"}\n",
    "print(avengers)\n",
    "avengers.discard(\"quill\")\n",
    "print(avengers)"
   ]
  },
  {
   "cell_type": "markdown",
   "id": "e88177f2",
   "metadata": {},
   "source": [
    "# 7) intersection()"
   ]
  },
  {
   "cell_type": "code",
   "execution_count": 7,
   "id": "6e46c989",
   "metadata": {},
   "outputs": [
    {
     "name": "stdout",
     "output_type": "stream",
     "text": [
      "{'thor'}\n"
     ]
    }
   ],
   "source": [
    "# intersection() : Returns a set, that is the intersection of two other sets\n",
    "\n",
    "a = {\"tony\", \"thor\", \"peter\"}\n",
    "b = {\"thor\", \"quill\", \"gamora\"}\n",
    "\n",
    "comn = a.intersection(b)\n",
    "\n",
    "print(comn)"
   ]
  },
  {
   "cell_type": "markdown",
   "id": "97b5210a",
   "metadata": {},
   "source": [
    "# 8) intersection_update()"
   ]
  },
  {
   "cell_type": "code",
   "execution_count": 8,
   "id": "a03d47bd",
   "metadata": {},
   "outputs": [
    {
     "name": "stdout",
     "output_type": "stream",
     "text": [
      "{'thor'}\n"
     ]
    }
   ],
   "source": [
    "# intersection_update() : Removes the items in this set that are not present in other, specified set(s)\n",
    "\n",
    "a = {\"tony\", \"thor\", \"peter\"}\n",
    "b = {\"thor\", \"quill\", \"gamora\"}\n",
    "\n",
    "a.intersection_update(b)\n",
    "print(a)"
   ]
  },
  {
   "cell_type": "markdown",
   "id": "e5c6a0f3",
   "metadata": {},
   "source": [
    "# 9) isdisjoint()"
   ]
  },
  {
   "cell_type": "code",
   "execution_count": 9,
   "id": "40cfe5f6",
   "metadata": {},
   "outputs": [
    {
     "name": "stdout",
     "output_type": "stream",
     "text": [
      "True\n"
     ]
    }
   ],
   "source": [
    "# isdisjoint() : Returns whether two sets have a intersection or not\n",
    "\n",
    "a = {\"tony\", \"thor\", \"peter\"}\n",
    "b = {\"hulk\", \"quill\", \"gamora\"}\n",
    "\n",
    "print(a.isdisjoint(b)) "
   ]
  },
  {
   "cell_type": "code",
   "execution_count": 10,
   "id": "3b1a8480",
   "metadata": {},
   "outputs": [
    {
     "name": "stdout",
     "output_type": "stream",
     "text": [
      "False\n"
     ]
    }
   ],
   "source": [
    "c = {\"hulk\", \"wanda\", \"dr.strange\"}\n",
    "print(b.isdisjoint(c))"
   ]
  },
  {
   "cell_type": "markdown",
   "id": "0357d452",
   "metadata": {},
   "source": [
    "# 10) issubset()"
   ]
  },
  {
   "cell_type": "code",
   "execution_count": 11,
   "id": "eb886f58",
   "metadata": {},
   "outputs": [
    {
     "name": "stdout",
     "output_type": "stream",
     "text": [
      "True\n"
     ]
    }
   ],
   "source": [
    "# issubset() : Returns whether another set contains this set or not\n",
    "\n",
    "gotg = {\"gamora\", \"quill\", \"groot\"}\n",
    "avengers = {\"tony\",\"thor\",\"hulk\", \"quill\", \"gamora\",\"groot\"}\n",
    "\n",
    "print(gotg.issubset(avengers))"
   ]
  },
  {
   "cell_type": "markdown",
   "id": "e8bd77e7",
   "metadata": {},
   "source": [
    "# 11) issuperset()"
   ]
  },
  {
   "cell_type": "code",
   "execution_count": 13,
   "id": "b3f7e8a1",
   "metadata": {},
   "outputs": [
    {
     "name": "stdout",
     "output_type": "stream",
     "text": [
      "True\n"
     ]
    }
   ],
   "source": [
    "# issuperset() : Returns whether this set contains another set or not\n",
    "\n",
    "gotg = {\"gamora\", \"quill\", \"groot\"}\n",
    "avengers = {\"tony\",\"thor\",\"hulk\", \"quill\", \"gamora\",\"groot\"}\n",
    "\n",
    "print(avengers.issuperset(gotg))"
   ]
  },
  {
   "cell_type": "markdown",
   "id": "66811f66",
   "metadata": {},
   "source": [
    "# 12) pop()"
   ]
  },
  {
   "cell_type": "code",
   "execution_count": 14,
   "id": "bcbe1cc2",
   "metadata": {},
   "outputs": [
    {
     "name": "stdout",
     "output_type": "stream",
     "text": [
      "{'gamora', 'quill', 'thor', 'tony', 'groot'}\n"
     ]
    }
   ],
   "source": [
    "# pop() : Removes an element from the set\n",
    "\n",
    "avengers = {\"tony\",\"thor\",\"hulk\", \"quill\", \"gamora\",\"groot\"}\n",
    "\n",
    "avengers.pop()\n",
    "print(avengers)"
   ]
  },
  {
   "cell_type": "markdown",
   "id": "e5de2ea8",
   "metadata": {},
   "source": [
    "# 13) remove()"
   ]
  },
  {
   "cell_type": "code",
   "execution_count": 15,
   "id": "9b3c0a92",
   "metadata": {},
   "outputs": [
    {
     "name": "stdout",
     "output_type": "stream",
     "text": [
      "{'gamora', 'quill', 'thor', 'tony', 'groot'}\n"
     ]
    }
   ],
   "source": [
    "# remove() : Removes the specified element\n",
    "\n",
    "avengers = {\"tony\",\"thor\",\"hulk\", \"quill\", \"gamora\",\"groot\"}\n",
    "\n",
    "avengers.remove(\"hulk\")\n",
    "print(avengers)"
   ]
  },
  {
   "cell_type": "markdown",
   "id": "90afab3a",
   "metadata": {},
   "source": [
    "# 14) symmetric_difference()"
   ]
  },
  {
   "cell_type": "code",
   "execution_count": 16,
   "id": "2595b821",
   "metadata": {},
   "outputs": [
    {
     "name": "stdout",
     "output_type": "stream",
     "text": [
      "{'gamora', 'peter', 'quill', 'tony'}\n"
     ]
    }
   ],
   "source": [
    "# symmetric_difference() : Returns a set with the symmetric differences of two sets\n",
    "\n",
    "a = {\"tony\", \"thor\", \"peter\"}\n",
    "b = {\"thor\", \"quill\", \"gamora\"}\n",
    "\n",
    "print(a.symmetric_difference(b))"
   ]
  },
  {
   "cell_type": "markdown",
   "id": "69455ef1",
   "metadata": {},
   "source": [
    "# 15) symmetric_difference_update()"
   ]
  },
  {
   "cell_type": "code",
   "execution_count": 21,
   "id": "d420fb31",
   "metadata": {},
   "outputs": [
    {
     "name": "stdout",
     "output_type": "stream",
     "text": [
      "{'lion', 'dog', 'tiger', 'cat'}\n"
     ]
    }
   ],
   "source": [
    "# symmetric_difference_update() : inserts the symmetric differences from this set and another\n",
    "\n",
    "a = {\"cat\", \"dog\", \"elephant\"}\n",
    "b = {\"lion\", \"tiger\", \"elephant\"}\n",
    "\n",
    "a.symmetric_difference_update(b)\n",
    "print(a)"
   ]
  },
  {
   "cell_type": "markdown",
   "id": "de5c0a56",
   "metadata": {},
   "source": [
    "# 16) union()"
   ]
  },
  {
   "cell_type": "code",
   "execution_count": 22,
   "id": "3ec7e52b",
   "metadata": {},
   "outputs": [
    {
     "name": "stdout",
     "output_type": "stream",
     "text": [
      "{'lion', 'tiger', 'elephant', 'cat', 'dog'}\n"
     ]
    }
   ],
   "source": [
    "# union() : Return a set containing the union of sets\n",
    "\n",
    "a = {\"cat\", \"dog\", \"elephant\"}\n",
    "b = {\"lion\", \"tiger\", \"elephant\"}\n",
    "\n",
    "print(a.union(b))"
   ]
  },
  {
   "cell_type": "markdown",
   "id": "d8d8d674",
   "metadata": {},
   "source": [
    "# 17) update()"
   ]
  },
  {
   "cell_type": "code",
   "execution_count": 23,
   "id": "851b63ce",
   "metadata": {},
   "outputs": [
    {
     "name": "stdout",
     "output_type": "stream",
     "text": [
      "{'hulk', 'gamora', 'quill', 'peter', 'thor', 'tony'}\n"
     ]
    }
   ],
   "source": [
    "# update() : Update the set with the union of this set and others\n",
    "\n",
    "a = {\"tony\", \"thor\", \"peter\"}\n",
    "b = {\"hulk\", \"quill\", \"gamora\"}\n",
    "\n",
    "a.update(b)\n",
    "print(a)"
   ]
  }
 ],
 "metadata": {
  "kernelspec": {
   "display_name": "Python 3 (ipykernel)",
   "language": "python",
   "name": "python3"
  },
  "language_info": {
   "codemirror_mode": {
    "name": "ipython",
    "version": 3
   },
   "file_extension": ".py",
   "mimetype": "text/x-python",
   "name": "python",
   "nbconvert_exporter": "python",
   "pygments_lexer": "ipython3",
   "version": "3.9.12"
  }
 },
 "nbformat": 4,
 "nbformat_minor": 5
}
